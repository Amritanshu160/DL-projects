{
 "cells": [
  {
   "cell_type": "code",
   "execution_count": 1,
   "metadata": {},
   "outputs": [],
   "source": [
    "# Step 1: Import Libraries and Load the Model\n",
    "import numpy as np\n",
    "import tensorflow as tf\n",
    "from tensorflow.keras.datasets import imdb\n",
    "from tensorflow.keras.preprocessing import sequence\n",
    "from tensorflow.keras.models import load_model"
   ]
  },
  {
   "cell_type": "code",
   "execution_count": 2,
   "metadata": {},
   "outputs": [],
   "source": [
    "\n",
    "# Load the IMDB dataset word index\n",
    "word_index = imdb.get_word_index()\n",
    "reverse_word_index = {value: key for key, value in word_index.items()}"
   ]
  },
  {
   "cell_type": "code",
   "execution_count": 3,
   "metadata": {},
   "outputs": [
    {
     "name": "stderr",
     "output_type": "stream",
     "text": [
      "WARNING:absl:Compiled the loaded model, but the compiled metrics have yet to be built. `model.compile_metrics` will be empty until you train or evaluate the model.\n"
     ]
    },
    {
     "data": {
      "text/html": [
       "<pre style=\"white-space:pre;overflow-x:auto;line-height:normal;font-family:Menlo,'DejaVu Sans Mono',consolas,'Courier New',monospace\"><span style=\"font-weight: bold\">Model: \"sequential\"</span>\n",
       "</pre>\n"
      ],
      "text/plain": [
       "\u001b[1mModel: \"sequential\"\u001b[0m\n"
      ]
     },
     "metadata": {},
     "output_type": "display_data"
    },
    {
     "data": {
      "text/html": [
       "<pre style=\"white-space:pre;overflow-x:auto;line-height:normal;font-family:Menlo,'DejaVu Sans Mono',consolas,'Courier New',monospace\">┏━━━━━━━━━━━━━━━━━━━━━━━━━━━━━━━━━┳━━━━━━━━━━━━━━━━━━━━━━━━┳━━━━━━━━━━━━━━━┓\n",
       "┃<span style=\"font-weight: bold\"> Layer (type)                    </span>┃<span style=\"font-weight: bold\"> Output Shape           </span>┃<span style=\"font-weight: bold\">       Param # </span>┃\n",
       "┡━━━━━━━━━━━━━━━━━━━━━━━━━━━━━━━━━╇━━━━━━━━━━━━━━━━━━━━━━━━╇━━━━━━━━━━━━━━━┩\n",
       "│ embedding (<span style=\"color: #0087ff; text-decoration-color: #0087ff\">Embedding</span>)           │ (<span style=\"color: #00af00; text-decoration-color: #00af00\">32</span>, <span style=\"color: #00af00; text-decoration-color: #00af00\">500</span>, <span style=\"color: #00af00; text-decoration-color: #00af00\">128</span>)         │     <span style=\"color: #00af00; text-decoration-color: #00af00\">1,280,000</span> │\n",
       "├─────────────────────────────────┼────────────────────────┼───────────────┤\n",
       "│ simple_rnn (<span style=\"color: #0087ff; text-decoration-color: #0087ff\">SimpleRNN</span>)          │ (<span style=\"color: #00af00; text-decoration-color: #00af00\">32</span>, <span style=\"color: #00af00; text-decoration-color: #00af00\">128</span>)              │        <span style=\"color: #00af00; text-decoration-color: #00af00\">32,896</span> │\n",
       "├─────────────────────────────────┼────────────────────────┼───────────────┤\n",
       "│ dense (<span style=\"color: #0087ff; text-decoration-color: #0087ff\">Dense</span>)                   │ (<span style=\"color: #00af00; text-decoration-color: #00af00\">32</span>, <span style=\"color: #00af00; text-decoration-color: #00af00\">1</span>)                │           <span style=\"color: #00af00; text-decoration-color: #00af00\">129</span> │\n",
       "└─────────────────────────────────┴────────────────────────┴───────────────┘\n",
       "</pre>\n"
      ],
      "text/plain": [
       "┏━━━━━━━━━━━━━━━━━━━━━━━━━━━━━━━━━┳━━━━━━━━━━━━━━━━━━━━━━━━┳━━━━━━━━━━━━━━━┓\n",
       "┃\u001b[1m \u001b[0m\u001b[1mLayer (type)                   \u001b[0m\u001b[1m \u001b[0m┃\u001b[1m \u001b[0m\u001b[1mOutput Shape          \u001b[0m\u001b[1m \u001b[0m┃\u001b[1m \u001b[0m\u001b[1m      Param #\u001b[0m\u001b[1m \u001b[0m┃\n",
       "┡━━━━━━━━━━━━━━━━━━━━━━━━━━━━━━━━━╇━━━━━━━━━━━━━━━━━━━━━━━━╇━━━━━━━━━━━━━━━┩\n",
       "│ embedding (\u001b[38;5;33mEmbedding\u001b[0m)           │ (\u001b[38;5;34m32\u001b[0m, \u001b[38;5;34m500\u001b[0m, \u001b[38;5;34m128\u001b[0m)         │     \u001b[38;5;34m1,280,000\u001b[0m │\n",
       "├─────────────────────────────────┼────────────────────────┼───────────────┤\n",
       "│ simple_rnn (\u001b[38;5;33mSimpleRNN\u001b[0m)          │ (\u001b[38;5;34m32\u001b[0m, \u001b[38;5;34m128\u001b[0m)              │        \u001b[38;5;34m32,896\u001b[0m │\n",
       "├─────────────────────────────────┼────────────────────────┼───────────────┤\n",
       "│ dense (\u001b[38;5;33mDense\u001b[0m)                   │ (\u001b[38;5;34m32\u001b[0m, \u001b[38;5;34m1\u001b[0m)                │           \u001b[38;5;34m129\u001b[0m │\n",
       "└─────────────────────────────────┴────────────────────────┴───────────────┘\n"
      ]
     },
     "metadata": {},
     "output_type": "display_data"
    },
    {
     "data": {
      "text/html": [
       "<pre style=\"white-space:pre;overflow-x:auto;line-height:normal;font-family:Menlo,'DejaVu Sans Mono',consolas,'Courier New',monospace\"><span style=\"font-weight: bold\"> Total params: </span><span style=\"color: #00af00; text-decoration-color: #00af00\">1,313,027</span> (5.01 MB)\n",
       "</pre>\n"
      ],
      "text/plain": [
       "\u001b[1m Total params: \u001b[0m\u001b[38;5;34m1,313,027\u001b[0m (5.01 MB)\n"
      ]
     },
     "metadata": {},
     "output_type": "display_data"
    },
    {
     "data": {
      "text/html": [
       "<pre style=\"white-space:pre;overflow-x:auto;line-height:normal;font-family:Menlo,'DejaVu Sans Mono',consolas,'Courier New',monospace\"><span style=\"font-weight: bold\"> Trainable params: </span><span style=\"color: #00af00; text-decoration-color: #00af00\">1,313,025</span> (5.01 MB)\n",
       "</pre>\n"
      ],
      "text/plain": [
       "\u001b[1m Trainable params: \u001b[0m\u001b[38;5;34m1,313,025\u001b[0m (5.01 MB)\n"
      ]
     },
     "metadata": {},
     "output_type": "display_data"
    },
    {
     "data": {
      "text/html": [
       "<pre style=\"white-space:pre;overflow-x:auto;line-height:normal;font-family:Menlo,'DejaVu Sans Mono',consolas,'Courier New',monospace\"><span style=\"font-weight: bold\"> Non-trainable params: </span><span style=\"color: #00af00; text-decoration-color: #00af00\">0</span> (0.00 B)\n",
       "</pre>\n"
      ],
      "text/plain": [
       "\u001b[1m Non-trainable params: \u001b[0m\u001b[38;5;34m0\u001b[0m (0.00 B)\n"
      ]
     },
     "metadata": {},
     "output_type": "display_data"
    },
    {
     "data": {
      "text/html": [
       "<pre style=\"white-space:pre;overflow-x:auto;line-height:normal;font-family:Menlo,'DejaVu Sans Mono',consolas,'Courier New',monospace\"><span style=\"font-weight: bold\"> Optimizer params: </span><span style=\"color: #00af00; text-decoration-color: #00af00\">2</span> (12.00 B)\n",
       "</pre>\n"
      ],
      "text/plain": [
       "\u001b[1m Optimizer params: \u001b[0m\u001b[38;5;34m2\u001b[0m (12.00 B)\n"
      ]
     },
     "metadata": {},
     "output_type": "display_data"
    }
   ],
   "source": [
    "# Load the pre-trained model with ReLU activation\n",
    "model = load_model('simple_rnn_imdb.h5')\n",
    "model.summary()"
   ]
  },
  {
   "cell_type": "code",
   "execution_count": 5,
   "metadata": {},
   "outputs": [
    {
     "data": {
      "text/plain": [
       "[array([[-1.23668349e+00,  1.87635385e-02,  1.14255738e+00, ...,\n",
       "         -2.87843049e-01, -7.16826320e-02,  1.14310241e+00],\n",
       "        [-6.45719294e-04,  3.59188765e-02,  8.18818286e-02, ...,\n",
       "         -2.65110098e-02,  1.63668338e-02,  3.85756716e-02],\n",
       "        [-6.19053468e-02,  5.84463142e-02,  1.48525760e-01, ...,\n",
       "         -8.98929164e-02,  1.06066182e-01,  8.12012106e-02],\n",
       "        ...,\n",
       "        [-9.25216526e-02,  5.13056517e-02,  5.38946353e-02, ...,\n",
       "          1.73842415e-01, -1.05610564e-01,  3.46907601e-02],\n",
       "        [-7.58389831e-02,  7.06519112e-02,  9.63360965e-02, ...,\n",
       "          1.43421544e-02, -1.35014832e-01, -4.13574576e-02],\n",
       "        [-3.34501155e-02, -5.23337200e-02, -1.45296365e-01, ...,\n",
       "          6.97701126e-02,  1.07931033e-01,  1.89421415e-01]], dtype=float32),\n",
       " array([[-0.05481095,  0.0240585 ,  0.07935929, ...,  0.10556859,\n",
       "          0.15291314,  0.15730481],\n",
       "        [-0.06359504,  0.0329263 ,  0.09799845, ..., -0.12677531,\n",
       "          0.09384495,  0.05751639],\n",
       "        [-0.08546641, -0.15271878, -0.17769389, ..., -0.05770267,\n",
       "         -0.06270033, -0.1337245 ],\n",
       "        ...,\n",
       "        [ 0.16141249, -0.12272365,  0.14538041, ...,  0.04751547,\n",
       "          0.03540913, -0.06735152],\n",
       "        [ 0.05454455, -0.0993279 , -0.1488726 , ..., -0.05916632,\n",
       "         -0.0021697 , -0.11407556],\n",
       "        [-0.14865544, -0.0741247 , -0.02360512, ..., -0.03388701,\n",
       "         -0.04034013, -0.06592065]], dtype=float32),\n",
       " array([[-0.05688219,  0.02139436,  0.02179541, ...,  0.07632506,\n",
       "          0.11876043,  0.0430063 ],\n",
       "        [ 0.18933776, -0.16947627, -0.16164355, ...,  0.01969246,\n",
       "          0.01561764, -0.1370892 ],\n",
       "        [ 0.0079905 ,  0.00600977,  0.01654829, ...,  0.04436361,\n",
       "          0.10838536,  0.09512254],\n",
       "        ...,\n",
       "        [-0.03792831, -0.03021565,  0.05841793, ...,  0.07008418,\n",
       "         -0.004496  ,  0.04269923],\n",
       "        [ 0.20447262,  0.07918159,  0.08628393, ...,  0.03926757,\n",
       "         -0.00935876, -0.0466684 ],\n",
       "        [ 0.04192626,  0.13498439,  0.10700203, ...,  0.0399009 ,\n",
       "          0.13334055, -0.09974624]], dtype=float32),\n",
       " array([ 0.049942  , -0.03220735, -0.01147057, -0.01043405, -0.01139115,\n",
       "        -0.01663597, -0.01241374,  0.02616046, -0.00905053, -0.02720098,\n",
       "        -0.02781163,  0.02118411, -0.01138587, -0.0116923 ,  0.0255145 ,\n",
       "        -0.01658043, -0.03943381,  0.02573794, -0.02754821, -0.01583098,\n",
       "        -0.02261398, -0.03120796,  0.01674963, -0.00276226, -0.01030821,\n",
       "         0.03174156,  0.00150523, -0.0115172 , -0.02471071, -0.03687882,\n",
       "        -0.00389258,  0.01199147, -0.02291376,  0.02338228, -0.03551773,\n",
       "         0.00251233,  0.01373218, -0.02784607,  0.01309479, -0.02636369,\n",
       "        -0.01288788, -0.01498279,  0.00679265,  0.00572993, -0.00870132,\n",
       "        -0.00939985,  0.02667095,  0.00386423, -0.02439817,  0.03100266,\n",
       "         0.01418378, -0.00944151,  0.01144142, -0.01611106, -0.03960161,\n",
       "        -0.01521455, -0.02559142,  0.01468049, -0.01808489, -0.00316946,\n",
       "        -0.00878688, -0.03224087,  0.01044697, -0.00618424,  0.0251546 ,\n",
       "         0.01506511, -0.02659895, -0.03336162,  0.00859833, -0.0085187 ,\n",
       "        -0.02178257,  0.02311874,  0.01541974,  0.03702606, -0.0272852 ,\n",
       "         0.01303092,  0.00785904,  0.03295603,  0.01807094, -0.0201869 ,\n",
       "        -0.0228719 , -0.03851454,  0.00567882, -0.01423934, -0.01258375,\n",
       "        -0.00144413, -0.01117475, -0.01852934, -0.01778692, -0.00809879,\n",
       "         0.01991221,  0.02938763, -0.00186015,  0.0030246 , -0.03110298,\n",
       "        -0.00586748,  0.02982791,  0.03617018,  0.00586893, -0.01947667,\n",
       "        -0.01280591, -0.02217679,  0.00845442, -0.01411162, -0.02159782,\n",
       "        -0.00543497, -0.02841123,  0.01431597, -0.00977687, -0.01581531,\n",
       "         0.0121062 ,  0.02086554, -0.00843138, -0.02585966, -0.03639556,\n",
       "        -0.00763858, -0.00234929, -0.00582306,  0.00216894, -0.02794082,\n",
       "         0.00337607,  0.01143621, -0.016331  ,  0.01894292, -0.00045132,\n",
       "         0.02049767, -0.02938049, -0.02942752], dtype=float32),\n",
       " array([[-2.51330703e-01],\n",
       "        [ 7.77718574e-02],\n",
       "        [-3.30402367e-02],\n",
       "        [ 1.89341307e-01],\n",
       "        [-2.73915892e-03],\n",
       "        [-8.66972432e-02],\n",
       "        [-1.07253008e-01],\n",
       "        [-1.57739818e-01],\n",
       "        [-9.37448591e-02],\n",
       "        [ 1.64125245e-02],\n",
       "        [-1.86798856e-01],\n",
       "        [ 1.78978652e-01],\n",
       "        [ 4.17819656e-02],\n",
       "        [-7.92924389e-02],\n",
       "        [-4.55322526e-02],\n",
       "        [-1.73627049e-01],\n",
       "        [-8.69632721e-01],\n",
       "        [ 2.30582133e-01],\n",
       "        [-1.80032000e-01],\n",
       "        [-4.68059033e-02],\n",
       "        [ 4.31927200e-03],\n",
       "        [-8.57449099e-02],\n",
       "        [ 4.17725705e-02],\n",
       "        [-1.17987804e-01],\n",
       "        [-6.75008148e-02],\n",
       "        [ 1.69159681e-01],\n",
       "        [-7.43840039e-02],\n",
       "        [ 1.26585230e-01],\n",
       "        [-7.19427019e-02],\n",
       "        [-1.85108989e-01],\n",
       "        [-7.64503330e-02],\n",
       "        [-1.30728066e-01],\n",
       "        [-3.92210931e-02],\n",
       "        [ 7.75322691e-02],\n",
       "        [-1.76193431e-01],\n",
       "        [ 9.53283608e-02],\n",
       "        [ 4.80094254e-02],\n",
       "        [-1.10037349e-01],\n",
       "        [-7.45349973e-02],\n",
       "        [-4.99235652e-03],\n",
       "        [ 3.95843089e-02],\n",
       "        [-2.01886535e-01],\n",
       "        [ 1.67003557e-01],\n",
       "        [ 6.68965504e-02],\n",
       "        [-5.55129685e-02],\n",
       "        [-2.14531615e-01],\n",
       "        [ 8.29420462e-02],\n",
       "        [-6.42904997e-01],\n",
       "        [-2.13261694e-01],\n",
       "        [ 1.03651747e-01],\n",
       "        [ 2.96944171e-01],\n",
       "        [-2.00039208e-01],\n",
       "        [-2.31192634e-03],\n",
       "        [-6.78852051e-02],\n",
       "        [ 4.93671335e-02],\n",
       "        [ 7.77585283e-02],\n",
       "        [ 1.05911113e-01],\n",
       "        [ 1.08382344e-01],\n",
       "        [ 8.01431313e-02],\n",
       "        [-3.89912575e-02],\n",
       "        [-1.75863370e-01],\n",
       "        [-2.93092635e-02],\n",
       "        [-5.05525805e-02],\n",
       "        [-1.10226208e-02],\n",
       "        [-8.98908898e-02],\n",
       "        [ 1.92455679e-01],\n",
       "        [ 1.80478543e-01],\n",
       "        [-1.85494706e-01],\n",
       "        [-1.11934524e-02],\n",
       "        [ 4.61830229e-01],\n",
       "        [-7.79556483e-02],\n",
       "        [ 6.90035671e-02],\n",
       "        [ 1.62840828e-01],\n",
       "        [ 1.93513721e-01],\n",
       "        [ 1.63785939e-03],\n",
       "        [ 7.48207746e-03],\n",
       "        [ 1.53782636e-01],\n",
       "        [ 8.56746063e-02],\n",
       "        [ 4.94166389e-02],\n",
       "        [-1.04454026e-01],\n",
       "        [-4.64971513e-02],\n",
       "        [-9.91338938e-02],\n",
       "        [ 1.02634907e-01],\n",
       "        [-1.49973452e-01],\n",
       "        [ 1.03838695e-02],\n",
       "        [ 3.84252286e-03],\n",
       "        [-1.63884997e-01],\n",
       "        [-3.58039024e-03],\n",
       "        [ 1.90298826e-01],\n",
       "        [-8.37375820e-02],\n",
       "        [-9.41129401e-02],\n",
       "        [ 1.18618652e-01],\n",
       "        [ 9.39559817e-01],\n",
       "        [ 6.51949719e-02],\n",
       "        [ 4.23638197e-03],\n",
       "        [-3.00976709e-02],\n",
       "        [-9.40449908e-02],\n",
       "        [ 6.33503199e-02],\n",
       "        [ 2.09830791e-01],\n",
       "        [-3.26183498e-01],\n",
       "        [-1.77127421e-02],\n",
       "        [-1.41670972e-01],\n",
       "        [-1.87343583e-02],\n",
       "        [-1.18648387e-01],\n",
       "        [-2.77003758e-02],\n",
       "        [ 1.08056679e-01],\n",
       "        [ 8.36677477e-03],\n",
       "        [ 1.54536813e-01],\n",
       "        [-1.43123530e-02],\n",
       "        [-1.76846132e-01],\n",
       "        [ 2.03462899e-01],\n",
       "        [-2.36868709e-01],\n",
       "        [-9.48565230e-02],\n",
       "        [-1.33391529e-01],\n",
       "        [-2.73806989e-01],\n",
       "        [-1.29783288e-01],\n",
       "        [-1.54115796e-01],\n",
       "        [ 8.14082697e-02],\n",
       "        [-1.53898895e-01],\n",
       "        [ 4.53929277e-03],\n",
       "        [-1.10288411e-01],\n",
       "        [-1.76085753e-03],\n",
       "        [-1.85066536e-01],\n",
       "        [-1.13214664e-01],\n",
       "        [-1.04605528e-02],\n",
       "        [-1.77428663e-01],\n",
       "        [ 2.18860358e-02],\n",
       "        [-2.31209342e-05]], dtype=float32),\n",
       " array([-0.52304757], dtype=float32)]"
      ]
     },
     "execution_count": 5,
     "metadata": {},
     "output_type": "execute_result"
    }
   ],
   "source": [
    "model.get_weights()"
   ]
  },
  {
   "cell_type": "code",
   "execution_count": 6,
   "metadata": {},
   "outputs": [],
   "source": [
    "# Step 2: Helper Functions\n",
    "# Function to decode reviews\n",
    "def decode_review(encoded_review):\n",
    "    return ' '.join([reverse_word_index.get(i - 3, '?') for i in encoded_review])\n",
    "\n",
    "# Function to preprocess user input\n",
    "def preprocess_text(text):\n",
    "    words = text.lower().split()\n",
    "    encoded_review = [word_index.get(word, 2) + 3 for word in words]\n",
    "    padded_review = sequence.pad_sequences([encoded_review], maxlen=500)\n",
    "    return padded_review"
   ]
  },
  {
   "cell_type": "code",
   "execution_count": 7,
   "metadata": {},
   "outputs": [],
   "source": [
    "### Prediction  function\n",
    "\n",
    "def predict_sentiment(review):\n",
    "    preprocessed_input=preprocess_text(review)\n",
    "\n",
    "    prediction=model.predict(preprocessed_input)\n",
    "\n",
    "    sentiment = 'Positive' if prediction[0][0] > 0.5 else 'Negative'\n",
    "    \n",
    "    return sentiment, prediction[0][0]\n",
    "\n"
   ]
  },
  {
   "cell_type": "code",
   "execution_count": 8,
   "metadata": {},
   "outputs": [
    {
     "name": "stdout",
     "output_type": "stream",
     "text": [
      "\u001b[1m1/1\u001b[0m \u001b[32m━━━━━━━━━━━━━━━━━━━━\u001b[0m\u001b[37m\u001b[0m \u001b[1m0s\u001b[0m 106ms/step\n",
      "Review: This movie was fantastic! The acting was great and the plot was thrilling.\n",
      "Sentiment: Positive\n",
      "Prediction Score: 0.7007622718811035\n"
     ]
    }
   ],
   "source": [
    "# Step 4: User Input and Prediction\n",
    "# Example review for prediction\n",
    "example_review = \"This movie was fantastic! The acting was great and the plot was thrilling.\"\n",
    "\n",
    "sentiment,score=predict_sentiment(example_review)\n",
    "\n",
    "print(f'Review: {example_review}')\n",
    "print(f'Sentiment: {sentiment}')\n",
    "print(f'Prediction Score: {score}')"
   ]
  },
  {
   "cell_type": "code",
   "execution_count": null,
   "metadata": {},
   "outputs": [],
   "source": []
  },
  {
   "cell_type": "code",
   "execution_count": null,
   "metadata": {},
   "outputs": [],
   "source": []
  },
  {
   "cell_type": "code",
   "execution_count": null,
   "metadata": {},
   "outputs": [],
   "source": []
  },
  {
   "cell_type": "code",
   "execution_count": null,
   "metadata": {},
   "outputs": [],
   "source": []
  }
 ],
 "metadata": {
  "kernelspec": {
   "display_name": "Python 3",
   "language": "python",
   "name": "python3"
  },
  "language_info": {
   "codemirror_mode": {
    "name": "ipython",
    "version": 3
   },
   "file_extension": ".py",
   "mimetype": "text/x-python",
   "name": "python",
   "nbconvert_exporter": "python",
   "pygments_lexer": "ipython3",
   "version": "3.12.5"
  }
 },
 "nbformat": 4,
 "nbformat_minor": 2
}
